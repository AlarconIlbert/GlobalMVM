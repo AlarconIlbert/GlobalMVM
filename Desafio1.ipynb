{
  "cells": [
    {
      "cell_type": "markdown",
      "metadata": {
        "nteract": {
          "transient": {
            "deleting": false
          }
        }
      },
      "source": [
        "### Librerias"
      ]
    },
    {
      "cell_type": "code",
      "execution_count": 1,
      "metadata": {},
      "outputs": [
        {
          "data": {
            "application/vnd.livy.statement-meta+json": {
              "execution_finish_time": "2024-04-25T10:13:28.0527868Z",
              "execution_start_time": "2024-04-25T10:13:20.4876866Z",
              "livy_statement_state": "available",
              "parent_msg_id": "720b69d2-0cbf-4617-a6e8-8e3a623bab3d",
              "queued_time": "2024-04-25T10:12:01.5168511Z",
              "session_id": "5579",
              "session_start_time": "2024-04-25T10:12:01.5544104Z",
              "spark_jobs": null,
              "spark_pool": "sparkpooldev01",
              "state": "finished",
              "statement_id": 2,
              "statement_ids": [
                2
              ]
            },
            "text/plain": [
              "StatementMeta(sparkpooldev01, 5579, 2, Finished, Available)"
            ]
          },
          "metadata": {},
          "output_type": "display_data"
        }
      ],
      "source": [
        "import pandas as pd\n",
        "import numpy as np\n",
        "import sys\n",
        "from pyspark.sql import SparkSession, DataFrame, Row\n",
        "from pyspark.sql.types import StructType, StructField, StringType, LongType, IntegerType, TimestampType, FloatType, DateType\n",
        "from pyspark.sql.functions import lit, col, trim, regexp_replace, regexp_extract, when, concat\n",
        "from datetime import datetime, timedelta\n",
        "import argparse\n",
        "import json\n",
        "from azure.storage.blob import BlobServiceClient, generate_container_sas, ContainerSasPermissions\n",
        "import pyspark.sql.functions as F\n",
        "import random"
      ]
    },
    {
      "cell_type": "code",
      "execution_count": 2,
      "metadata": {
        "jupyter": {
          "outputs_hidden": false,
          "source_hidden": false
        },
        "nteract": {
          "transient": {
            "deleting": false
          }
        }
      },
      "outputs": [
        {
          "data": {
            "application/vnd.livy.statement-meta+json": {
              "execution_finish_time": "2024-04-25T10:13:28.3108374Z",
              "execution_start_time": "2024-04-25T10:13:28.167344Z",
              "livy_statement_state": "available",
              "parent_msg_id": "0c5c329f-a754-4c8e-ad63-22543abb43e4",
              "queued_time": "2024-04-25T10:12:04.7925495Z",
              "session_id": "5579",
              "session_start_time": null,
              "spark_jobs": null,
              "spark_pool": "sparkpooldev01",
              "state": "finished",
              "statement_id": 3,
              "statement_ids": [
                3
              ]
            },
            "text/plain": [
              "StatementMeta(sparkpooldev01, 5579, 3, Finished, Available)"
            ]
          },
          "metadata": {},
          "output_type": "display_data"
        }
      ],
      "source": [
        "# Nombre del Key Vault\n",
        "key_vault = ''\n",
        "\n",
        "# Nombre de los secretos cuentas de almacenamiento y key1\n",
        "stccrdv001Name = ''\n",
        "stccrdv001key = ''"
      ]
    },
    {
      "cell_type": "markdown",
      "metadata": {
        "nteract": {
          "transient": {
            "deleting": false
          }
        }
      },
      "source": [
        "## Credenciales"
      ]
    },
    {
      "cell_type": "code",
      "execution_count": 3,
      "metadata": {
        "jupyter": {
          "outputs_hidden": false,
          "source_hidden": false
        },
        "nteract": {
          "transient": {
            "deleting": false
          }
        }
      },
      "outputs": [
        {
          "data": {
            "application/vnd.livy.statement-meta+json": {
              "execution_finish_time": "2024-04-25T10:13:28.9318181Z",
              "execution_start_time": "2024-04-25T10:13:28.4154164Z",
              "livy_statement_state": "available",
              "parent_msg_id": "2bbd6bd6-9471-4ab3-b340-6023b70c9275",
              "queued_time": "2024-04-25T10:12:07.2494949Z",
              "session_id": "5579",
              "session_start_time": null,
              "spark_jobs": null,
              "spark_pool": "sparkpooldev01",
              "state": "finished",
              "statement_id": 4,
              "statement_ids": [
                4
              ]
            },
            "text/plain": [
              "StatementMeta(sparkpooldev01, 5579, 4, Finished, Available)"
            ]
          },
          "metadata": {},
          "output_type": "display_data"
        }
      ],
      "source": [
        "# Definimos los secretos del Key Vault en nuestras variables. Nombre de los secretos cuentas de almacenamiento y key1\n",
        "synapseusername_stccrdv001 = TokenLibrary.getSecret(key_vault, stccrdv001Name)  \n",
        "synapsepassword_stccrdv001 = TokenLibrary.getSecret(key_vault, stccrdv001key)"
      ]
    },
    {
      "cell_type": "code",
      "execution_count": 4,
      "metadata": {
        "jupyter": {
          "outputs_hidden": false,
          "source_hidden": false
        },
        "nteract": {
          "transient": {
            "deleting": false
          }
        }
      },
      "outputs": [
        {
          "data": {
            "application/vnd.livy.statement-meta+json": {
              "execution_finish_time": "2024-04-25T10:13:29.1837408Z",
              "execution_start_time": "2024-04-25T10:13:29.0352485Z",
              "livy_statement_state": "available",
              "parent_msg_id": "7e84fe28-c168-48dc-b770-c152472b3ede",
              "queued_time": "2024-04-25T10:12:09.9583526Z",
              "session_id": "5579",
              "session_start_time": null,
              "spark_jobs": null,
              "spark_pool": "sparkpooldev01",
              "state": "finished",
              "statement_id": 5,
              "statement_ids": [
                5
              ]
            },
            "text/plain": [
              "StatementMeta(sparkpooldev01, 5579, 5, Finished, Available)"
            ]
          },
          "metadata": {},
          "output_type": "display_data"
        }
      ],
      "source": [
        "# Define el nombre del contenedor\n",
        "adls_container_name = \"\"\n",
        "\n",
        "# Define la duración y los permisos del token de acceso SAS\n",
        "sas_expiry = datetime.utcnow() + timedelta(hours=1)\n",
        "sas_permissions = ContainerSasPermissions(read=True, list=True)  # Puedes ajustar los permisos según tus necesidades\n",
        "\n",
        "# Genera el token de acceso SAS\n",
        "sas_token = generate_container_sas(\n",
        "    account_name=synapseusername_stccrdv001,\n",
        "    container_name=adls_container_name,\n",
        "    account_key=synapsepassword_stccrdv001,\n",
        "    expiry=sas_expiry,\n",
        "    permission=sas_permissions\n",
        ")\n",
        "\n",
        "# Configura Spark para utilizar el token de acceso SAS al acceder a Azure Data Lake Storage Gen2\n",
        "spark.conf.set(\n",
        "    'fs.azure.sas.%s.%s.dfs.core.windows.net' % (adls_container_name, synapseusername_stccrdv001),\n",
        "    sas_token)"
      ]
    },
    {
      "cell_type": "code",
      "execution_count": 5,
      "metadata": {
        "jupyter": {
          "outputs_hidden": false,
          "source_hidden": false
        },
        "nteract": {
          "transient": {
            "deleting": false
          }
        }
      },
      "outputs": [
        {
          "data": {
            "application/vnd.livy.statement-meta+json": {
              "execution_finish_time": "2024-04-25T10:13:50.1971217Z",
              "execution_start_time": "2024-04-25T10:13:50.0614855Z",
              "livy_statement_state": "available",
              "parent_msg_id": "b800eb7b-d162-456b-87a0-bc6350eb6e74",
              "queued_time": "2024-04-25T10:13:49.947115Z",
              "session_id": "5579",
              "session_start_time": null,
              "spark_jobs": null,
              "spark_pool": "sparkpooldev01",
              "state": "finished",
              "statement_id": 6,
              "statement_ids": [
                6
              ]
            },
            "text/plain": [
              "StatementMeta(sparkpooldev01, 5579, 6, Finished, Available)"
            ]
          },
          "metadata": {},
          "output_type": "display_data"
        },
        {
          "data": {
            "text/plain": [
              "'true'"
            ]
          },
          "execution_count": 13,
          "metadata": {},
          "output_type": "execute_result"
        }
      ],
      "source": [
        "spark.conf.get(\"spark.sql.adaptive.enabled\", \"true\")\n",
        "spark.conf.get(\"spark.sql.adaptive.coalescePartitions\", \"true\")"
      ]
    },
    {
      "cell_type": "markdown",
      "metadata": {
        "nteract": {
          "transient": {
            "deleting": false
          }
        }
      },
      "source": [
        "# **Carga de archivos**"
      ]
    },
    {
      "cell_type": "code",
      "execution_count": 6,
      "metadata": {
        "jupyter": {
          "outputs_hidden": false,
          "source_hidden": false
        },
        "nteract": {
          "transient": {
            "deleting": false
          }
        }
      },
      "outputs": [
        {
          "data": {
            "application/vnd.livy.statement-meta+json": {
              "execution_finish_time": "2024-04-25T10:13:56.009255Z",
              "execution_start_time": "2024-04-25T10:13:52.8074123Z",
              "livy_statement_state": "available",
              "parent_msg_id": "9acc443c-edc0-4ef1-afd9-a2e4fff2f869",
              "queued_time": "2024-04-25T10:13:52.7123014Z",
              "session_id": "5579",
              "session_start_time": null,
              "spark_jobs": null,
              "spark_pool": "sparkpooldev01",
              "state": "finished",
              "statement_id": 7,
              "statement_ids": [
                7
              ]
            },
            "text/plain": [
              "StatementMeta(sparkpooldev01, 5579, 7, Finished, Available)"
            ]
          },
          "metadata": {},
          "output_type": "display_data"
        }
      ],
      "source": [
        "# Iniciar una sesión de Spark\n",
        "spark = SparkSession.builder.getOrCreate()\n",
        " \n",
        "# Datos de los departamentos\n",
        "departments_data = [(1, \"Sales\"), (2, \"Marketing\"), (3, \"IT\"), (4, \"Human Resources\"), (5, \"Finance\"), (6, \"Operations\")]\n",
        "departments_df = spark.createDataFrame(departments_data, [\"department_id\", \"department_name\"])\n",
        " \n",
        "# Datos de los puestos de trabajo\n",
        "positions_data = [(101, \"Manager\"), (102, \"Analyst\"), (103, \"Developer\"), (104, \"HR Specialist\"), (105, \"Accountant\"), (106, \"Data Engineer\")]\n",
        "positions_df = spark.createDataFrame(positions_data, [\"position_id\", \"position_name\"])\n",
        " \n",
        "# Datos de los empleados\n",
        "random.seed(0)\n",
        "employees_data = [(i, f\"Employee{i}\", random.choice([1, 2, 3, 4, 5]), random.choice([101, 102, 103, 104, 105]), f\"2021-{random.randint(1, 12)}-{random.randint(1, 28)}\") for i in range(1, 101)]\n",
        "employees_df = spark.createDataFrame(employees_data, [\"employee_id\", \"employee_name\", \"department_id\", \"position_id\", \"hire_date\"])"
      ]
    },
    {
      "cell_type": "code",
      "execution_count": 7,
      "metadata": {
        "collapsed": false,
        "jupyter": {
          "outputs_hidden": false,
          "source_hidden": false
        },
        "nteract": {
          "transient": {
            "deleting": false
          }
        }
      },
      "outputs": [
        {
          "data": {
            "application/vnd.livy.statement-meta+json": {
              "execution_finish_time": "2024-04-25T10:14:15.8770358Z",
              "execution_start_time": "2024-04-25T10:13:56.1236654Z",
              "livy_statement_state": "available",
              "parent_msg_id": "09c1d558-173c-471d-bf66-58ae5285128f",
              "queued_time": "2024-04-25T10:13:55.6321485Z",
              "session_id": "5579",
              "session_start_time": null,
              "spark_jobs": null,
              "spark_pool": "sparkpooldev01",
              "state": "finished",
              "statement_id": 8,
              "statement_ids": [
                8
              ]
            },
            "text/plain": [
              "StatementMeta(sparkpooldev01, 5579, 8, Finished, Available)"
            ]
          },
          "metadata": {},
          "output_type": "display_data"
        },
        {
          "data": {
            "application/vnd.synapse.widget-view+json": {
              "widget_id": "3be45766-3093-49b1-9b35-3c8a2fffdaef",
              "widget_type": "Synapse.DataFrame"
            },
            "text/plain": [
              "SynapseWidget(Synapse.DataFrame, 3be45766-3093-49b1-9b35-3c8a2fffdaef)"
            ]
          },
          "metadata": {},
          "output_type": "display_data"
        }
      ],
      "source": [
        "display(departments_df)"
      ]
    },
    {
      "cell_type": "code",
      "execution_count": 8,
      "metadata": {
        "collapsed": false,
        "jupyter": {
          "outputs_hidden": false,
          "source_hidden": false
        },
        "nteract": {
          "transient": {
            "deleting": false
          }
        }
      },
      "outputs": [
        {
          "data": {
            "application/vnd.livy.statement-meta+json": {
              "execution_finish_time": "2024-04-25T10:14:17.0488793Z",
              "execution_start_time": "2024-04-25T10:14:15.9925276Z",
              "livy_statement_state": "available",
              "parent_msg_id": "dcae5acd-20ab-4f1e-99ac-3e7cacf703ba",
              "queued_time": "2024-04-25T10:13:57.3959915Z",
              "session_id": "5579",
              "session_start_time": null,
              "spark_jobs": null,
              "spark_pool": "sparkpooldev01",
              "state": "finished",
              "statement_id": 9,
              "statement_ids": [
                9
              ]
            },
            "text/plain": [
              "StatementMeta(sparkpooldev01, 5579, 9, Finished, Available)"
            ]
          },
          "metadata": {},
          "output_type": "display_data"
        },
        {
          "data": {
            "application/vnd.synapse.widget-view+json": {
              "widget_id": "7f2a8141-9017-4296-a02f-c0e764515e33",
              "widget_type": "Synapse.DataFrame"
            },
            "text/plain": [
              "SynapseWidget(Synapse.DataFrame, 7f2a8141-9017-4296-a02f-c0e764515e33)"
            ]
          },
          "metadata": {},
          "output_type": "display_data"
        }
      ],
      "source": [
        "display(positions_df)"
      ]
    },
    {
      "cell_type": "code",
      "execution_count": 9,
      "metadata": {
        "collapsed": false,
        "jupyter": {
          "outputs_hidden": false,
          "source_hidden": false
        },
        "nteract": {
          "transient": {
            "deleting": false
          }
        }
      },
      "outputs": [
        {
          "data": {
            "application/vnd.livy.statement-meta+json": {
              "execution_finish_time": "2024-04-25T10:14:20.392011Z",
              "execution_start_time": "2024-04-25T10:14:17.1678446Z",
              "livy_statement_state": "available",
              "parent_msg_id": "cd9adb7e-01fe-4c72-9650-b29abc6a9641",
              "queued_time": "2024-04-25T10:13:58.9259632Z",
              "session_id": "5579",
              "session_start_time": null,
              "spark_jobs": null,
              "spark_pool": "sparkpooldev01",
              "state": "finished",
              "statement_id": 10,
              "statement_ids": [
                10
              ]
            },
            "text/plain": [
              "StatementMeta(sparkpooldev01, 5579, 10, Finished, Available)"
            ]
          },
          "metadata": {},
          "output_type": "display_data"
        },
        {
          "data": {
            "application/vnd.synapse.widget-view+json": {
              "widget_id": "a8c4d033-d525-4a0d-8ad6-d1186070dd53",
              "widget_type": "Synapse.DataFrame"
            },
            "text/plain": [
              "SynapseWidget(Synapse.DataFrame, a8c4d033-d525-4a0d-8ad6-d1186070dd53)"
            ]
          },
          "metadata": {},
          "output_type": "display_data"
        }
      ],
      "source": [
        "display(employees_df)"
      ]
    },
    {
      "cell_type": "code",
      "execution_count": 10,
      "metadata": {
        "jupyter": {
          "outputs_hidden": false,
          "source_hidden": false
        },
        "nteract": {
          "transient": {
            "deleting": false
          }
        }
      },
      "outputs": [
        {
          "data": {
            "application/vnd.livy.statement-meta+json": {
              "execution_finish_time": "2024-04-25T10:14:20.6581331Z",
              "execution_start_time": "2024-04-25T10:14:20.5198924Z",
              "livy_statement_state": "available",
              "parent_msg_id": "f1ca5441-6810-4906-b97d-c3e012972870",
              "queued_time": "2024-04-25T10:14:00.7897583Z",
              "session_id": "5579",
              "session_start_time": null,
              "spark_jobs": null,
              "spark_pool": "sparkpooldev01",
              "state": "finished",
              "statement_id": 11,
              "statement_ids": [
                11
              ]
            },
            "text/plain": [
              "StatementMeta(sparkpooldev01, 5579, 11, Finished, Available)"
            ]
          },
          "metadata": {},
          "output_type": "display_data"
        }
      ],
      "source": [
        "departments = f\"df_departments.parquet\"\n",
        "employees = f\"df_employees.parquet\"\n",
        "positions = f\"df_positions.parquet\""
      ]
    },
    {
      "cell_type": "code",
      "execution_count": 11,
      "metadata": {
        "jupyter": {
          "outputs_hidden": false,
          "source_hidden": false
        },
        "nteract": {
          "transient": {
            "deleting": false
          }
        }
      },
      "outputs": [
        {
          "data": {
            "application/vnd.livy.statement-meta+json": {
              "execution_finish_time": "2024-04-25T10:14:24.6905617Z",
              "execution_start_time": "2024-04-25T10:14:20.7605852Z",
              "livy_statement_state": "available",
              "parent_msg_id": "fa8dfaa0-19b6-432a-a130-fbe4d8e2764a",
              "queued_time": "2024-04-25T10:14:07.3410266Z",
              "session_id": "5579",
              "session_start_time": null,
              "spark_jobs": null,
              "spark_pool": "sparkpooldev01",
              "state": "finished",
              "statement_id": 12,
              "statement_ids": [
                12
              ]
            },
            "text/plain": [
              "StatementMeta(sparkpooldev01, 5579, 12, Finished, Available)"
            ]
          },
          "metadata": {},
          "output_type": "display_data"
        }
      ],
      "source": [
        "departments_df = departments_df.toPandas()\n",
        "departments_df.to_parquet(departments)\n",
        "\n",
        "employees_df = employees_df.toPandas()\n",
        "employees_df.to_parquet(employees)\n",
        "\n",
        "positions_df = positions_df.toPandas()\n",
        "positions_df.to_parquet(positions)\n"
      ]
    },
    {
      "cell_type": "markdown",
      "metadata": {
        "nteract": {
          "transient": {
            "deleting": false
          }
        }
      },
      "source": [
        "## Enviar a SQL"
      ]
    },
    {
      "cell_type": "code",
      "execution_count": 14,
      "metadata": {
        "jupyter": {
          "outputs_hidden": false,
          "source_hidden": false
        },
        "nteract": {
          "transient": {
            "deleting": false
          }
        }
      },
      "outputs": [
        {
          "data": {
            "application/vnd.livy.statement-meta+json": {
              "execution_finish_time": "2024-04-25T10:15:02.0771008Z",
              "execution_start_time": "2024-04-25T10:15:01.5936925Z",
              "livy_statement_state": "available",
              "parent_msg_id": "1e8e9054-ed77-4b0d-8d27-94e68e334389",
              "queued_time": "2024-04-25T10:15:01.4926861Z",
              "session_id": "5579",
              "session_start_time": null,
              "spark_jobs": null,
              "spark_pool": "sparkpooldev01",
              "state": "finished",
              "statement_id": 15,
              "statement_ids": [
                15
              ]
            },
            "text/plain": [
              "StatementMeta(sparkpooldev01, 5579, 15, Finished, Available)"
            ]
          },
          "metadata": {},
          "output_type": "display_data"
        }
      ],
      "source": [
        "from pyspark.sql import SparkSession\n",
        "from azure.storage.blob import BlobServiceClient, BlobClient, ContainerClient\n",
        "\n",
        "# Conecta con la cuenta de almacenamiento Blob\n",
        "blob_service_client = BlobServiceClient(account_url=f\".blob.core.windows.net\", credential=synapsepassword_stccrdv001)\n",
        "\n",
        "# Crea un cliente para el contenedor en el que deseas guardar el archivo\n",
        "container_name = \"adlsdlccrdv001\"\n",
        "container_client = blob_service_client.get_container_client(container_name)\n",
        "\n",
        "# Ruta en Blob Storage\n",
        "ruta_blob = f\"reject/{positions}\"\n",
        "\n",
        "# Comprobar si el archivo ya existe y eliminarlo si es necesario\n",
        "blob_client = container_client.get_blob_client(ruta_blob)\n",
        "if blob_client.exists():\n",
        "    blob_client.delete_blob()\n",
        "\n",
        "# Sube el archivo al contenedor\n",
        "blob_client = container_client.get_blob_client(ruta_blob)\n",
        "with open(positions, \"rb\") as data:\n",
        "    blob_client.upload_blob(data)"
      ]
    }
  ],
  "metadata": {
    "description": null,
    "kernel_info": {
      "name": "synapse_pyspark"
    },
    "kernelspec": {
      "display_name": ".venv",
      "language": "python",
      "name": "python3"
    },
    "language_info": {
      "name": "python",
      "version": "3.11.9"
    },
    "save_output": true,
    "synapse_widget": {
      "state": {
        "3be45766-3093-49b1-9b35-3c8a2fffdaef": {
          "persist_state": {
            "view": {
              "chartOptions": {
                "aggregationType": "sum",
                "categoryFieldKeys": [
                  "1"
                ],
                "chartType": "bar",
                "isStacked": false,
                "seriesFieldKeys": [
                  "0"
                ]
              },
              "tableOptions": {},
              "type": "details"
            }
          },
          "sync_state": {
            "isSummary": false,
            "language": "scala",
            "table": {
              "rows": [
                {
                  "0": "1",
                  "1": "Sales"
                },
                {
                  "0": "2",
                  "1": "Marketing"
                },
                {
                  "0": "3",
                  "1": "IT"
                },
                {
                  "0": "4",
                  "1": "Human Resources"
                },
                {
                  "0": "5",
                  "1": "Finance"
                },
                {
                  "0": "6",
                  "1": "Operations"
                }
              ],
              "schema": [
                {
                  "key": "0",
                  "name": "department_id",
                  "type": "bigint"
                },
                {
                  "key": "1",
                  "name": "department_name",
                  "type": "string"
                }
              ],
              "truncated": false
            }
          },
          "type": "Synapse.DataFrame"
        },
        "7f2a8141-9017-4296-a02f-c0e764515e33": {
          "persist_state": {
            "view": {
              "chartOptions": {
                "aggregationType": "sum",
                "categoryFieldKeys": [
                  "1"
                ],
                "chartType": "bar",
                "isStacked": false,
                "seriesFieldKeys": [
                  "0"
                ]
              },
              "tableOptions": {},
              "type": "details"
            }
          },
          "sync_state": {
            "isSummary": false,
            "language": "scala",
            "table": {
              "rows": [
                {
                  "0": "101",
                  "1": "Manager"
                },
                {
                  "0": "102",
                  "1": "Analyst"
                },
                {
                  "0": "103",
                  "1": "Developer"
                },
                {
                  "0": "104",
                  "1": "HR Specialist"
                },
                {
                  "0": "105",
                  "1": "Accountant"
                },
                {
                  "0": "106",
                  "1": "Data Engineer"
                }
              ],
              "schema": [
                {
                  "key": "0",
                  "name": "position_id",
                  "type": "bigint"
                },
                {
                  "key": "1",
                  "name": "position_name",
                  "type": "string"
                }
              ],
              "truncated": false
            }
          },
          "type": "Synapse.DataFrame"
        },
        "a8c4d033-d525-4a0d-8ad6-d1186070dd53": {
          "persist_state": {
            "view": {
              "chartOptions": {
                "aggregationType": "sum",
                "categoryFieldKeys": [
                  "1"
                ],
                "chartType": "bar",
                "isStacked": false,
                "seriesFieldKeys": [
                  "0"
                ]
              },
              "tableOptions": {},
              "type": "details"
            }
          },
          "sync_state": {
            "isSummary": false,
            "language": "scala",
            "table": {
              "rows": [
                {
                  "0": "1",
                  "1": "Employee1",
                  "2": "4",
                  "3": "104",
                  "4": "2021-1-9"
                },
                {
                  "0": "2",
                  "1": "Employee2",
                  "2": "5",
                  "3": "104",
                  "4": "2021-7-26"
                },
                {
                  "0": "3",
                  "1": "Employee3",
                  "2": "3",
                  "3": "104",
                  "4": "2021-6-19"
                },
                {
                  "0": "4",
                  "1": "Employee4",
                  "2": "2",
                  "3": "105",
                  "4": "2021-3-10"
                },
                {
                  "0": "5",
                  "1": "Employee5",
                  "2": "2",
                  "3": "101",
                  "4": "2021-10-26"
                },
                {
                  "0": "6",
                  "1": "Employee6",
                  "2": "3",
                  "3": "105",
                  "4": "2021-12-26"
                },
                {
                  "0": "7",
                  "1": "Employee7",
                  "2": "5",
                  "3": "102",
                  "4": "2021-5-4"
                },
                {
                  "0": "8",
                  "1": "Employee8",
                  "2": "1",
                  "3": "103",
                  "4": "2021-8-18"
                },
                {
                  "0": "9",
                  "1": "Employee9",
                  "2": "1",
                  "3": "103",
                  "4": "2021-7-11"
                },
                {
                  "0": "10",
                  "1": "Employee10",
                  "2": "5",
                  "3": "102",
                  "4": "2021-9-16"
                },
                {
                  "0": "11",
                  "1": "Employee11",
                  "2": "4",
                  "3": "105",
                  "4": "2021-5-2"
                },
                {
                  "0": "12",
                  "1": "Employee12",
                  "2": "5",
                  "3": "101",
                  "4": "2021-2-24"
                },
                {
                  "0": "13",
                  "1": "Employee13",
                  "2": "4",
                  "3": "101",
                  "4": "2021-10-16"
                },
                {
                  "0": "14",
                  "1": "Employee14",
                  "2": "3",
                  "3": "102",
                  "4": "2021-12-11"
                },
                {
                  "0": "15",
                  "1": "Employee15",
                  "2": "1",
                  "3": "102",
                  "4": "2021-10-8"
                },
                {
                  "0": "16",
                  "1": "Employee16",
                  "2": "2",
                  "3": "102",
                  "4": "2021-9-15"
                },
                {
                  "0": "17",
                  "1": "Employee17",
                  "2": "1",
                  "3": "101",
                  "4": "2021-6-17"
                },
                {
                  "0": "18",
                  "1": "Employee18",
                  "2": "4",
                  "3": "101",
                  "4": "2021-5-18"
                },
                {
                  "0": "19",
                  "1": "Employee19",
                  "2": "3",
                  "3": "101",
                  "4": "2021-9-11"
                },
                {
                  "0": "20",
                  "1": "Employee20",
                  "2": "5",
                  "3": "102",
                  "4": "2021-10-18"
                },
                {
                  "0": "21",
                  "1": "Employee21",
                  "2": "5",
                  "3": "103",
                  "4": "2021-8-3"
                },
                {
                  "0": "22",
                  "1": "Employee22",
                  "2": "5",
                  "3": "104",
                  "4": "2021-6-19"
                },
                {
                  "0": "23",
                  "1": "Employee23",
                  "2": "2",
                  "3": "103",
                  "4": "2021-3-7"
                },
                {
                  "0": "24",
                  "1": "Employee24",
                  "2": "2",
                  "3": "101",
                  "4": "2021-10-22"
                },
                {
                  "0": "25",
                  "1": "Employee25",
                  "2": "3",
                  "3": "104",
                  "4": "2021-2-3"
                },
                {
                  "0": "26",
                  "1": "Employee26",
                  "2": "2",
                  "3": "102",
                  "4": "2021-1-27"
                },
                {
                  "0": "27",
                  "1": "Employee27",
                  "2": "1",
                  "3": "105",
                  "4": "2021-11-13"
                },
                {
                  "0": "28",
                  "1": "Employee28",
                  "2": "5",
                  "3": "103",
                  "4": "2021-9-26"
                },
                {
                  "0": "29",
                  "1": "Employee29",
                  "2": "2",
                  "3": "102",
                  "4": "2021-11-19"
                },
                {
                  "0": "30",
                  "1": "Employee30",
                  "2": "4",
                  "3": "105",
                  "4": "2021-5-15"
                },
                {
                  "0": "31",
                  "1": "Employee31",
                  "2": "4",
                  "3": "103",
                  "4": "2021-2-11"
                },
                {
                  "0": "32",
                  "1": "Employee32",
                  "2": "5",
                  "3": "101",
                  "4": "2021-8-19"
                },
                {
                  "0": "33",
                  "1": "Employee33",
                  "2": "3",
                  "3": "102",
                  "4": "2021-4-1"
                },
                {
                  "0": "34",
                  "1": "Employee34",
                  "2": "3",
                  "3": "101",
                  "4": "2021-12-8"
                },
                {
                  "0": "35",
                  "1": "Employee35",
                  "2": "3",
                  "3": "102",
                  "4": "2021-6-14"
                },
                {
                  "0": "36",
                  "1": "Employee36",
                  "2": "1",
                  "3": "101",
                  "4": "2021-3-28"
                },
                {
                  "0": "37",
                  "1": "Employee37",
                  "2": "2",
                  "3": "101",
                  "4": "2021-10-21"
                },
                {
                  "0": "38",
                  "1": "Employee38",
                  "2": "5",
                  "3": "105",
                  "4": "2021-11-3"
                },
                {
                  "0": "39",
                  "1": "Employee39",
                  "2": "1",
                  "3": "101",
                  "4": "2021-11-7"
                },
                {
                  "0": "40",
                  "1": "Employee40",
                  "2": "5",
                  "3": "105",
                  "4": "2021-2-13"
                },
                {
                  "0": "41",
                  "1": "Employee41",
                  "2": "1",
                  "3": "103",
                  "4": "2021-2-2"
                },
                {
                  "0": "42",
                  "1": "Employee42",
                  "2": "5",
                  "3": "101",
                  "4": "2021-4-6"
                },
                {
                  "0": "43",
                  "1": "Employee43",
                  "2": "1",
                  "3": "104",
                  "4": "2021-4-24"
                },
                {
                  "0": "44",
                  "1": "Employee44",
                  "2": "1",
                  "3": "101",
                  "4": "2021-9-14"
                },
                {
                  "0": "45",
                  "1": "Employee45",
                  "2": "5",
                  "3": "101",
                  "4": "2021-5-3"
                },
                {
                  "0": "46",
                  "1": "Employee46",
                  "2": "2",
                  "3": "101",
                  "4": "2021-11-10"
                },
                {
                  "0": "47",
                  "1": "Employee47",
                  "2": "3",
                  "3": "104",
                  "4": "2021-3-2"
                },
                {
                  "0": "48",
                  "1": "Employee48",
                  "2": "5",
                  "3": "104",
                  "4": "2021-1-20"
                },
                {
                  "0": "49",
                  "1": "Employee49",
                  "2": "1",
                  "3": "104",
                  "4": "2021-4-9"
                },
                {
                  "0": "50",
                  "1": "Employee50",
                  "2": "3",
                  "3": "104",
                  "4": "2021-10-6"
                },
                {
                  "0": "51",
                  "1": "Employee51",
                  "2": "2",
                  "3": "101",
                  "4": "2021-11-6"
                },
                {
                  "0": "52",
                  "1": "Employee52",
                  "2": "2",
                  "3": "103",
                  "4": "2021-9-9"
                },
                {
                  "0": "53",
                  "1": "Employee53",
                  "2": "1",
                  "3": "105",
                  "4": "2021-8-22"
                },
                {
                  "0": "54",
                  "1": "Employee54",
                  "2": "2",
                  "3": "101",
                  "4": "2021-8-22"
                },
                {
                  "0": "55",
                  "1": "Employee55",
                  "2": "4",
                  "3": "105",
                  "4": "2021-9-10"
                },
                {
                  "0": "56",
                  "1": "Employee56",
                  "2": "3",
                  "3": "104",
                  "4": "2021-11-9"
                },
                {
                  "0": "57",
                  "1": "Employee57",
                  "2": "2",
                  "3": "105",
                  "4": "2021-12-1"
                },
                {
                  "0": "58",
                  "1": "Employee58",
                  "2": "4",
                  "3": "101",
                  "4": "2021-6-24"
                },
                {
                  "0": "59",
                  "1": "Employee59",
                  "2": "1",
                  "3": "105",
                  "4": "2021-5-5"
                },
                {
                  "0": "60",
                  "1": "Employee60",
                  "2": "2",
                  "3": "104",
                  "4": "2021-6-20"
                },
                {
                  "0": "61",
                  "1": "Employee61",
                  "2": "3",
                  "3": "103",
                  "4": "2021-10-21"
                },
                {
                  "0": "62",
                  "1": "Employee62",
                  "2": "5",
                  "3": "102",
                  "4": "2021-12-10"
                },
                {
                  "0": "63",
                  "1": "Employee63",
                  "2": "4",
                  "3": "104",
                  "4": "2021-11-3"
                },
                {
                  "0": "64",
                  "1": "Employee64",
                  "2": "1",
                  "3": "105",
                  "4": "2021-4-23"
                },
                {
                  "0": "65",
                  "1": "Employee65",
                  "2": "3",
                  "3": "102",
                  "4": "2021-4-8"
                },
                {
                  "0": "66",
                  "1": "Employee66",
                  "2": "4",
                  "3": "104",
                  "4": "2021-12-22"
                },
                {
                  "0": "67",
                  "1": "Employee67",
                  "2": "5",
                  "3": "104",
                  "4": "2021-1-13"
                },
                {
                  "0": "68",
                  "1": "Employee68",
                  "2": "5",
                  "3": "104",
                  "4": "2021-11-23"
                },
                {
                  "0": "69",
                  "1": "Employee69",
                  "2": "1",
                  "3": "102",
                  "4": "2021-8-3"
                },
                {
                  "0": "70",
                  "1": "Employee70",
                  "2": "3",
                  "3": "102",
                  "4": "2021-8-17"
                },
                {
                  "0": "71",
                  "1": "Employee71",
                  "2": "4",
                  "3": "105",
                  "4": "2021-10-25"
                },
                {
                  "0": "72",
                  "1": "Employee72",
                  "2": "1",
                  "3": "101",
                  "4": "2021-8-11"
                },
                {
                  "0": "73",
                  "1": "Employee73",
                  "2": "3",
                  "3": "104",
                  "4": "2021-1-26"
                },
                {
                  "0": "74",
                  "1": "Employee74",
                  "2": "4",
                  "3": "102",
                  "4": "2021-9-21"
                },
                {
                  "0": "75",
                  "1": "Employee75",
                  "2": "1",
                  "3": "102",
                  "4": "2021-1-13"
                },
                {
                  "0": "76",
                  "1": "Employee76",
                  "2": "4",
                  "3": "103",
                  "4": "2021-1-7"
                },
                {
                  "0": "77",
                  "1": "Employee77",
                  "2": "1",
                  "3": "101",
                  "4": "2021-11-17"
                },
                {
                  "0": "78",
                  "1": "Employee78",
                  "2": "5",
                  "3": "101",
                  "4": "2021-4-4"
                },
                {
                  "0": "79",
                  "1": "Employee79",
                  "2": "5",
                  "3": "102",
                  "4": "2021-5-9"
                },
                {
                  "0": "80",
                  "1": "Employee80",
                  "2": "2",
                  "3": "101",
                  "4": "2021-8-28"
                },
                {
                  "0": "81",
                  "1": "Employee81",
                  "2": "4",
                  "3": "101",
                  "4": "2021-1-9"
                },
                {
                  "0": "82",
                  "1": "Employee82",
                  "2": "4",
                  "3": "101",
                  "4": "2021-5-5"
                },
                {
                  "0": "83",
                  "1": "Employee83",
                  "2": "5",
                  "3": "103",
                  "4": "2021-2-28"
                },
                {
                  "0": "84",
                  "1": "Employee84",
                  "2": "2",
                  "3": "103",
                  "4": "2021-1-2"
                },
                {
                  "0": "85",
                  "1": "Employee85",
                  "2": "1",
                  "3": "102",
                  "4": "2021-11-9"
                },
                {
                  "0": "86",
                  "1": "Employee86",
                  "2": "5",
                  "3": "103",
                  "4": "2021-6-19"
                },
                {
                  "0": "87",
                  "1": "Employee87",
                  "2": "1",
                  "3": "105",
                  "4": "2021-11-16"
                },
                {
                  "0": "88",
                  "1": "Employee88",
                  "2": "4",
                  "3": "104",
                  "4": "2021-6-28"
                },
                {
                  "0": "89",
                  "1": "Employee89",
                  "2": "5",
                  "3": "102",
                  "4": "2021-4-13"
                },
                {
                  "0": "90",
                  "1": "Employee90",
                  "2": "5",
                  "3": "103",
                  "4": "2021-1-5"
                },
                {
                  "0": "91",
                  "1": "Employee91",
                  "2": "2",
                  "3": "103",
                  "4": "2021-6-11"
                },
                {
                  "0": "92",
                  "1": "Employee92",
                  "2": "3",
                  "3": "101",
                  "4": "2021-6-25"
                },
                {
                  "0": "93",
                  "1": "Employee93",
                  "2": "5",
                  "3": "101",
                  "4": "2021-1-9"
                },
                {
                  "0": "94",
                  "1": "Employee94",
                  "2": "2",
                  "3": "102",
                  "4": "2021-10-10"
                },
                {
                  "0": "95",
                  "1": "Employee95",
                  "2": "3",
                  "3": "104",
                  "4": "2021-9-5"
                },
                {
                  "0": "96",
                  "1": "Employee96",
                  "2": "3",
                  "3": "101",
                  "4": "2021-8-24"
                },
                {
                  "0": "97",
                  "1": "Employee97",
                  "2": "2",
                  "3": "101",
                  "4": "2021-5-6"
                },
                {
                  "0": "98",
                  "1": "Employee98",
                  "2": "5",
                  "3": "101",
                  "4": "2021-5-13"
                },
                {
                  "0": "99",
                  "1": "Employee99",
                  "2": "3",
                  "3": "103",
                  "4": "2021-7-4"
                },
                {
                  "0": "100",
                  "1": "Employee100",
                  "2": "1",
                  "3": "105",
                  "4": "2021-8-16"
                }
              ],
              "schema": [
                {
                  "key": "0",
                  "name": "employee_id",
                  "type": "bigint"
                },
                {
                  "key": "1",
                  "name": "employee_name",
                  "type": "string"
                },
                {
                  "key": "2",
                  "name": "department_id",
                  "type": "bigint"
                },
                {
                  "key": "3",
                  "name": "position_id",
                  "type": "bigint"
                },
                {
                  "key": "4",
                  "name": "hire_date",
                  "type": "string"
                }
              ],
              "truncated": false
            }
          },
          "type": "Synapse.DataFrame"
        }
      },
      "version": "0.1"
    }
  },
  "nbformat": 4,
  "nbformat_minor": 2
}
